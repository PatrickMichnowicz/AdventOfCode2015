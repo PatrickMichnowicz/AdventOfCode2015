{
 "cells": [
  {
   "cell_type": "markdown",
   "metadata": {},
   "source": [
    "# 5 - Doesn't He Have Intern-Elves For This?"
   ]
  },
  {
   "cell_type": "markdown",
   "metadata": {},
   "source": [
    "#### Part 1\n",
    "Santa needs help figuring out which strings in his text file are naughty or nice.\n",
    "\n",
    "A nice string is one with all of the following properties:  \n",
    "+ It contains at least three vowels (aeiou only), like aei, xazegov, or aeiouaeiouaeiou.\n",
    "+ It contains at least one letter that appears twice in a row, like xx, abcdde (dd), or aabbccdd (aa, bb, cc, or dd).\n",
    "+ It does not contain the strings ab, cd, pq, or xy, even if they are part of one of the other requirements.\n",
    "\n",
    "For example:  \n",
    "+ ugknbfddgicrmopn is nice because it has at least three vowels (u...i...o...), a double letter (...dd...), and none of the disallowed substrings.\n",
    "+ aaa is nice because it has at least three vowels and a double letter, even though the letters used by different rules overlap.\n",
    "+ jchzalrnumimnmhp is naughty because it has no double letter.\n",
    "+ haegwjzuvuyypxyu is naughty because it contains the string xy.\n",
    "+ dvszwmarrgswjxmb is naughty because it contains only one vowel.\n",
    "\n",
    "How many strings are nice?"
   ]
  },
  {
   "cell_type": "markdown",
   "metadata": {},
   "source": [
    "#### Part 2\n",
    "\n",
    "Realizing the error of his ways, Santa has switched to a better model of determining whether a string is naughty or nice. None of the old rules apply, as they are all clearly ridiculous.\n",
    "\n",
    "Now, a nice string is one with all of the following properties:\n",
    "+ It contains a pair of any two letters that appears at least twice in the string without overlapping, like xyxy (xy) or aabcdefgaa (aa), but not like aaa (aa, but it overlaps).\n",
    "+ It contains at least one letter which repeats with exactly one letter between them, like xyx, abcdefeghi (efe), or even aaa.\n",
    "\n",
    "For example:\n",
    "+ qjhvhtzxzqqjkmpb is nice because is has a pair that appears twice (qj) and a letter that repeats with exactly one letter between them (zxz).\n",
    "+ xxyxx is nice because it has a pair that appears twice and a letter that repeats with one between, even though the letters used by each rule overlap.\n",
    "+ uurcxstgmygtbstg is naughty because it has a pair (tg) but no repeat with a single letter between them.\n",
    "+ ieodomkazucvgmuy is naughty because it has a repeating letter with one between (odo), but no pair that appears twice.\n",
    "\n",
    "How many strings are nice under these new rules?"
   ]
  },
  {
   "cell_type": "markdown",
   "metadata": {},
   "source": [
    "#### Input\n",
    "https://adventofcode.com/2015/day/5/input"
   ]
  },
  {
   "cell_type": "code",
   "execution_count": 1,
   "metadata": {},
   "outputs": [],
   "source": [
    "import pandas as pd \n",
    "import numpy as np"
   ]
  },
  {
   "cell_type": "code",
   "execution_count": 103,
   "metadata": {},
   "outputs": [
    {
     "name": "stdout",
     "output_type": "stream",
     "text": [
      "The total number of nice strings is: 255\n"
     ]
    }
   ],
   "source": [
    "# Part 1\n",
    "\n",
    "# 1 - Import input to an excel file, tranform into csv\n",
    "\n",
    "# 2 - Import csv\n",
    "strings = pd.read_csv(\"2015_05_Doesn_t_He_Have_Intern-Elves_For_This.csv\")\n",
    "\n",
    "# 3 - Defining rules\n",
    "# Rule 1= must contain 3 vowels\n",
    "strings[\"vowels\"] = strings.loc[:,\"Strings\"].str.count(r'[aeiou]')\n",
    "strings[\"rule_1\"] = strings[\"vowels\"] >= 3\n",
    "\n",
    "# Rule 2: specific sequences cannot appear in a row\n",
    "rule_2_ab = strings.loc[:,\"Strings\"].str.contains(\"ab\")\n",
    "rule_2_cd = strings.loc[:,\"Strings\"].str.contains(\"cd\")\n",
    "rule_2_pq = strings.loc[:,\"Strings\"].str.contains(\"pq\")\n",
    "rule_2_xy = strings.loc[:,\"Strings\"].str.contains(\"xy\")\n",
    "strings[\"rule_2\"] = rule_2_ab + rule_2_cd + rule_2_pq + rule_2_xy\n",
    "\n",
    "# Rule 3: at least one letter must appear twice in a row\n",
    "strings[\"rule_3\"] = strings[\"Strings\"].str.match(r'.*([a-zA-Z])\\1')\n",
    "\n",
    "# Set \"nice\" and \"naughty\" strings\n",
    "nice = strings[(strings.rule_1 == True) & (strings.rule_2 == False) & (strings.rule_3 == True)]\n",
    "\n",
    "# Answer\n",
    "print(\"The total number of nice strings is: \" + str(len(nice)))"
   ]
  },
  {
   "cell_type": "code",
   "execution_count": 104,
   "metadata": {},
   "outputs": [
    {
     "data": {
      "text/html": [
       "<div>\n",
       "<style scoped>\n",
       "    .dataframe tbody tr th:only-of-type {\n",
       "        vertical-align: middle;\n",
       "    }\n",
       "\n",
       "    .dataframe tbody tr th {\n",
       "        vertical-align: top;\n",
       "    }\n",
       "\n",
       "    .dataframe thead th {\n",
       "        text-align: right;\n",
       "    }\n",
       "</style>\n",
       "<table border=\"1\" class=\"dataframe\">\n",
       "  <thead>\n",
       "    <tr style=\"text-align: right;\">\n",
       "      <th></th>\n",
       "      <th>Strings</th>\n",
       "    </tr>\n",
       "  </thead>\n",
       "  <tbody>\n",
       "    <tr>\n",
       "      <th>0</th>\n",
       "      <td>sszojmmrrkwuftyv</td>\n",
       "    </tr>\n",
       "    <tr>\n",
       "      <th>1</th>\n",
       "      <td>isaljhemltsdzlum</td>\n",
       "    </tr>\n",
       "    <tr>\n",
       "      <th>2</th>\n",
       "      <td>fujcyucsrxgatisb</td>\n",
       "    </tr>\n",
       "    <tr>\n",
       "      <th>3</th>\n",
       "      <td>qiqqlmcgnhzparyg</td>\n",
       "    </tr>\n",
       "    <tr>\n",
       "      <th>4</th>\n",
       "      <td>oijbmduquhfactbc</td>\n",
       "    </tr>\n",
       "    <tr>\n",
       "      <th>...</th>\n",
       "      <td>...</td>\n",
       "    </tr>\n",
       "    <tr>\n",
       "      <th>995</th>\n",
       "      <td>kqfivwystpqzvhan</td>\n",
       "    </tr>\n",
       "    <tr>\n",
       "      <th>996</th>\n",
       "      <td>bzukgvyoqewniivj</td>\n",
       "    </tr>\n",
       "    <tr>\n",
       "      <th>997</th>\n",
       "      <td>iduapzclhhyfladn</td>\n",
       "    </tr>\n",
       "    <tr>\n",
       "      <th>998</th>\n",
       "      <td>fbpyzxdfmkrtfaeg</td>\n",
       "    </tr>\n",
       "    <tr>\n",
       "      <th>999</th>\n",
       "      <td>yzsmlbnftftgwadz</td>\n",
       "    </tr>\n",
       "  </tbody>\n",
       "</table>\n",
       "<p>1000 rows × 1 columns</p>\n",
       "</div>"
      ],
      "text/plain": [
       "              Strings\n",
       "0    sszojmmrrkwuftyv\n",
       "1    isaljhemltsdzlum\n",
       "2    fujcyucsrxgatisb\n",
       "3    qiqqlmcgnhzparyg\n",
       "4    oijbmduquhfactbc\n",
       "..                ...\n",
       "995  kqfivwystpqzvhan\n",
       "996  bzukgvyoqewniivj\n",
       "997  iduapzclhhyfladn\n",
       "998  fbpyzxdfmkrtfaeg\n",
       "999  yzsmlbnftftgwadz\n",
       "\n",
       "[1000 rows x 1 columns]"
      ]
     },
     "execution_count": 104,
     "metadata": {},
     "output_type": "execute_result"
    }
   ],
   "source": [
    "# Part 2\n",
    "new_strings = pd.read_csv(\"2015_05_Doesn_t_He_Have_Intern-Elves_For_This.csv\")\n",
    "new_strings"
   ]
  }
 ],
 "metadata": {
  "kernelspec": {
   "display_name": "base",
   "language": "python",
   "name": "python3"
  },
  "language_info": {
   "codemirror_mode": {
    "name": "ipython",
    "version": 3
   },
   "file_extension": ".py",
   "mimetype": "text/x-python",
   "name": "python",
   "nbconvert_exporter": "python",
   "pygments_lexer": "ipython3",
   "version": "3.11.5"
  }
 },
 "nbformat": 4,
 "nbformat_minor": 2
}
