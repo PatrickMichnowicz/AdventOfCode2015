{
 "cells": [
  {
   "cell_type": "markdown",
   "metadata": {},
   "source": [
    "# 2 - I Was Told There Would Be No Math"
   ]
  },
  {
   "cell_type": "markdown",
   "metadata": {},
   "source": [
    "# Part 1\n",
    "The elves are running low on wrapping paper, and so they need to submit an order for more. They have a list of the dimensions (length l, width w, and height h) of each present, and only want to order exactly as much as they need.\n",
    "\n",
    "Fortunately, every present is a box (a perfect right rectangular prism), which makes calculating the required wrapping paper for each gift a little easier: find the surface area of the box, which is 2*l*w + 2*w*h + 2*h*l. The elves also need a little extra paper for each present: the area of the smallest side.\n",
    "\n",
    "For example:\n",
    "\n",
    "+ A present with dimensions 2x3x4 requires 2*6 + 2*12 + 2*8 = 52 square feet of wrapping paper plus 6 square feet of slack, for a total of 58 square feet.\n",
    "+ A present with dimensions 1x1x10 requires 2*1 + 2*10 + 2*10 = 42 square feet of wrapping paper plus 1 square foot of slack, for a total of 43 square feet.\n",
    "\n",
    "All numbers in the elves' list are in feet. How many total square feet of wrapping paper should they order?"
   ]
  },
  {
   "cell_type": "markdown",
   "metadata": {},
   "source": [
    "# Part 2\n",
    "\n",
    "The elves are also running low on ribbon. Ribbon is all the same width, so they only have to worry about the length they need to order, which they would again like to be exact.\n",
    "\n",
    "The ribbon required to wrap a present is the shortest distance around its sides, or the smallest perimeter of any one face. Each present also requires a bow made out of ribbon as well; the feet of ribbon required for the perfect bow is equal to the cubic feet of volume of the present. Don't ask how they tie the bow, though; they'll never tell.\n",
    "\n",
    "For example:\n",
    "\n",
    "+ A present with dimensions 2x3x4 requires 2+2+3+3 = 10 feet of ribbon to wrap the present plus 2*3*4 = 24 feet of ribbon for the bow, for a total of 34 feet.\n",
    "+ A present with dimensions 1x1x10 requires 1+1+1+1 = 4 feet of ribbon to wrap the present plus 1*1*10 = 10 feet of ribbon for the bow, for a total of 14 feet.\n",
    "\n",
    "How many total feet of ribbon should they order?"
   ]
  },
  {
   "cell_type": "markdown",
   "metadata": {},
   "source": [
    "# Input\n",
    "\n",
    "https://adventofcode.com/2015/day/2/input"
   ]
  },
  {
   "cell_type": "code",
   "execution_count": 1,
   "metadata": {},
   "outputs": [],
   "source": [
    "import pandas as pd\n",
    "import numpy as np "
   ]
  },
  {
   "cell_type": "code",
   "execution_count": 2,
   "metadata": {},
   "outputs": [
    {
     "name": "stdout",
     "output_type": "stream",
     "text": [
      "1606483\n"
     ]
    }
   ],
   "source": [
    "# Part 1\n",
    "\n",
    "# 0 - Copy-pasted the values into an excel file, replaced \"x\" by coma's, added column names, saved as csv\n",
    "\n",
    "# 1 - Import csv of measures\n",
    "present = pd.read_csv(\"2015_2_no_math.csv\")\n",
    "\n",
    "# 2 - Compute the surface area of the box\n",
    "present[\"total_surface\"] = ((present[\"l\"]*present[\"w\"])*2) + ((present[\"w\"]*present[\"h\"])*2) + ((present[\"h\"]*present[\"l\"])*2)\n",
    "\n",
    "# 3 - Get the square feet of slack paper required for the smallest surface\n",
    "# Subset l, w, h\n",
    "\n",
    "present_surfaces = present[[\"l\", \"w\", \"h\"]]\n",
    "\n",
    "# Create columns with all surfaces\n",
    "present_surfaces[\"lw\"] = present[\"l\"] * present[\"w\"]\n",
    "present_surfaces[\"wh\"] = present[\"w\"] * present[\"h\"]\n",
    "present_surfaces[\"hl\"] = present[\"h\"] * present[\"l\"]\n",
    "present_surfaces[\"total\"] = present[\"total_surface\"] #for readability only\n",
    "\n",
    "# Subset lw, wh, hl\n",
    "present_pivoted_again = present_surfaces[[\"lw\", \"wh\", \"hl\"]]\n",
    "present_pivoted_again = pd.pivot_table(present_pivoted_again, columns=present_surfaces.index)\n",
    "\n",
    "# Get smallest surface\n",
    "present_pivoted_again.min()\n",
    "\n",
    "# Add slack column\n",
    "present[\"slack\"] = present_pivoted_again.min()\n",
    "\n",
    "# Get total amount of paper for each gift\n",
    "present[\"total_paper\"] = present[\"total_surface\"] + present[\"slack\"]\n",
    "\n",
    "# Get total paper required for all gifts\n",
    "paper_required = present[\"total_paper\"].sum()\n",
    "\n",
    "print(paper_required)"
   ]
  },
  {
   "cell_type": "code",
   "execution_count": 3,
   "metadata": {},
   "outputs": [
    {
     "name": "stdout",
     "output_type": "stream",
     "text": [
      "3842356\n"
     ]
    },
    {
     "name": "stderr",
     "output_type": "stream",
     "text": [
      "C:\\Users\\patri\\AppData\\Local\\Temp\\ipykernel_18908\\4105251000.py:10: SettingWithCopyWarning: \n",
      "A value is trying to be set on a copy of a slice from a DataFrame.\n",
      "Try using .loc[row_indexer,col_indexer] = value instead\n",
      "\n",
      "See the caveats in the documentation: https://pandas.pydata.org/pandas-docs/stable/user_guide/indexing.html#returning-a-view-versus-a-copy\n",
      "  ribbon[\"lw\"] = present[\"l\"] + present[\"w\"]\n",
      "C:\\Users\\patri\\AppData\\Local\\Temp\\ipykernel_18908\\4105251000.py:11: SettingWithCopyWarning: \n",
      "A value is trying to be set on a copy of a slice from a DataFrame.\n",
      "Try using .loc[row_indexer,col_indexer] = value instead\n",
      "\n",
      "See the caveats in the documentation: https://pandas.pydata.org/pandas-docs/stable/user_guide/indexing.html#returning-a-view-versus-a-copy\n",
      "  ribbon[\"wh\"] = present[\"w\"] + present[\"h\"]\n",
      "C:\\Users\\patri\\AppData\\Local\\Temp\\ipykernel_18908\\4105251000.py:12: SettingWithCopyWarning: \n",
      "A value is trying to be set on a copy of a slice from a DataFrame.\n",
      "Try using .loc[row_indexer,col_indexer] = value instead\n",
      "\n",
      "See the caveats in the documentation: https://pandas.pydata.org/pandas-docs/stable/user_guide/indexing.html#returning-a-view-versus-a-copy\n",
      "  ribbon[\"hl\"] = present[\"h\"] + present[\"l\"]\n"
     ]
    }
   ],
   "source": [
    "# Part 2\n",
    "\n",
    "# Length required for the bows\n",
    "present[\"bow\"] = present[\"l\"]*present[\"w\"]*present[\"h\"]\n",
    "length_bow = present[\"bow\"].sum() # correct\n",
    "\n",
    "# Length required for the circumferences of smallest sides\n",
    "ribbon = present[[\"l\", \"w\", \"h\"]]\n",
    "\n",
    "# Create columns with all length * width values\n",
    "ribbon[\"lw\"] = present[\"l\"] + present[\"w\"]\n",
    "ribbon[\"wh\"] = present[\"w\"] + present[\"h\"]\n",
    "ribbon[\"hl\"] = present[\"h\"] + present[\"l\"]\n",
    "\n",
    "# Subset lw, wh, hl\n",
    "ribbon_pivoted = ribbon[[\"lw\", \"wh\", \"hl\"]]\n",
    "ribbon_pivoted = pd.pivot_table(ribbon_pivoted, columns=ribbon.index)\n",
    "\n",
    "# Get smallest circumferance\n",
    "ribbon_pivoted.min()*2\n",
    "\n",
    "# Compute length\n",
    "present[\"ribbon\"] = ribbon_pivoted.min()*2\n",
    "length_ribbon = present[\"ribbon\"].sum()\n",
    "\n",
    "# Total length required\n",
    "total_ribbon_length = length_ribbon + length_bow\n",
    "print(total_ribbon_length)\n",
    "\n",
    "#Correct= 3842356"
   ]
  }
 ],
 "metadata": {
  "kernelspec": {
   "display_name": "base",
   "language": "python",
   "name": "python3"
  },
  "language_info": {
   "codemirror_mode": {
    "name": "ipython",
    "version": 3
   },
   "file_extension": ".py",
   "mimetype": "text/x-python",
   "name": "python",
   "nbconvert_exporter": "python",
   "pygments_lexer": "ipython3",
   "version": "3.11.5"
  }
 },
 "nbformat": 4,
 "nbformat_minor": 2
}
